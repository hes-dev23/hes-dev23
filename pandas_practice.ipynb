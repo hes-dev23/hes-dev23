{
 "cells": [
  {
   "cell_type": "code",
   "execution_count": 1,
   "metadata": {},
   "outputs": [],
   "source": [
    "import pandas as pd\n",
    "import os"
   ]
  },
  {
   "cell_type": "code",
   "execution_count": 2,
   "metadata": {},
   "outputs": [
    {
     "name": "stdout",
     "output_type": "stream",
     "text": [
      "<class 'pandas.core.frame.DataFrame'>\n",
      "RangeIndex: 1458644 entries, 0 to 1458643\n",
      "Data columns (total 11 columns):\n",
      " #   Column              Non-Null Count    Dtype  \n",
      "---  ------              --------------    -----  \n",
      " 0   id                  1458644 non-null  object \n",
      " 1   vendor_id           1458644 non-null  int64  \n",
      " 2   pickup_datetime     1458644 non-null  object \n",
      " 3   dropoff_datetime    1458644 non-null  object \n",
      " 4   passenger_count     1458644 non-null  int64  \n",
      " 5   pickup_longitude    1458644 non-null  float64\n",
      " 6   pickup_latitude     1458644 non-null  float64\n",
      " 7   dropoff_longitude   1458644 non-null  float64\n",
      " 8   dropoff_latitude    1458644 non-null  float64\n",
      " 9   store_and_fwd_flag  1458644 non-null  object \n",
      " 10  trip_duration       1458644 non-null  int64  \n",
      "dtypes: float64(4), int64(3), object(4)\n",
      "memory usage: 461.8 MB\n",
      "None\n"
     ]
    },
    {
     "data": {
      "text/html": [
       "<div>\n",
       "<style scoped>\n",
       "    .dataframe tbody tr th:only-of-type {\n",
       "        vertical-align: middle;\n",
       "    }\n",
       "\n",
       "    .dataframe tbody tr th {\n",
       "        vertical-align: top;\n",
       "    }\n",
       "\n",
       "    .dataframe thead th {\n",
       "        text-align: right;\n",
       "    }\n",
       "</style>\n",
       "<table border=\"1\" class=\"dataframe\">\n",
       "  <thead>\n",
       "    <tr style=\"text-align: right;\">\n",
       "      <th></th>\n",
       "      <th>vendor_id</th>\n",
       "      <th>passenger_count</th>\n",
       "      <th>pickup_longitude</th>\n",
       "      <th>pickup_latitude</th>\n",
       "      <th>dropoff_longitude</th>\n",
       "      <th>dropoff_latitude</th>\n",
       "      <th>trip_duration</th>\n",
       "    </tr>\n",
       "  </thead>\n",
       "  <tbody>\n",
       "    <tr>\n",
       "      <th>count</th>\n",
       "      <td>1.458644e+06</td>\n",
       "      <td>1.458644e+06</td>\n",
       "      <td>1.458644e+06</td>\n",
       "      <td>1.458644e+06</td>\n",
       "      <td>1.458644e+06</td>\n",
       "      <td>1.458644e+06</td>\n",
       "      <td>1.458644e+06</td>\n",
       "    </tr>\n",
       "    <tr>\n",
       "      <th>mean</th>\n",
       "      <td>1.534950e+00</td>\n",
       "      <td>1.664530e+00</td>\n",
       "      <td>-7.397349e+01</td>\n",
       "      <td>4.075092e+01</td>\n",
       "      <td>-7.397342e+01</td>\n",
       "      <td>4.075180e+01</td>\n",
       "      <td>9.594923e+02</td>\n",
       "    </tr>\n",
       "    <tr>\n",
       "      <th>std</th>\n",
       "      <td>4.987772e-01</td>\n",
       "      <td>1.314242e+00</td>\n",
       "      <td>7.090186e-02</td>\n",
       "      <td>3.288119e-02</td>\n",
       "      <td>7.064327e-02</td>\n",
       "      <td>3.589056e-02</td>\n",
       "      <td>5.237432e+03</td>\n",
       "    </tr>\n",
       "    <tr>\n",
       "      <th>min</th>\n",
       "      <td>1.000000e+00</td>\n",
       "      <td>0.000000e+00</td>\n",
       "      <td>-1.219333e+02</td>\n",
       "      <td>3.435970e+01</td>\n",
       "      <td>-1.219333e+02</td>\n",
       "      <td>3.218114e+01</td>\n",
       "      <td>1.000000e+00</td>\n",
       "    </tr>\n",
       "    <tr>\n",
       "      <th>25%</th>\n",
       "      <td>1.000000e+00</td>\n",
       "      <td>1.000000e+00</td>\n",
       "      <td>-7.399187e+01</td>\n",
       "      <td>4.073735e+01</td>\n",
       "      <td>-7.399133e+01</td>\n",
       "      <td>4.073588e+01</td>\n",
       "      <td>3.970000e+02</td>\n",
       "    </tr>\n",
       "    <tr>\n",
       "      <th>50%</th>\n",
       "      <td>2.000000e+00</td>\n",
       "      <td>1.000000e+00</td>\n",
       "      <td>-7.398174e+01</td>\n",
       "      <td>4.075410e+01</td>\n",
       "      <td>-7.397975e+01</td>\n",
       "      <td>4.075452e+01</td>\n",
       "      <td>6.620000e+02</td>\n",
       "    </tr>\n",
       "    <tr>\n",
       "      <th>75%</th>\n",
       "      <td>2.000000e+00</td>\n",
       "      <td>2.000000e+00</td>\n",
       "      <td>-7.396733e+01</td>\n",
       "      <td>4.076836e+01</td>\n",
       "      <td>-7.396301e+01</td>\n",
       "      <td>4.076981e+01</td>\n",
       "      <td>1.075000e+03</td>\n",
       "    </tr>\n",
       "    <tr>\n",
       "      <th>max</th>\n",
       "      <td>2.000000e+00</td>\n",
       "      <td>9.000000e+00</td>\n",
       "      <td>-6.133553e+01</td>\n",
       "      <td>5.188108e+01</td>\n",
       "      <td>-6.133553e+01</td>\n",
       "      <td>4.392103e+01</td>\n",
       "      <td>3.526282e+06</td>\n",
       "    </tr>\n",
       "  </tbody>\n",
       "</table>\n",
       "</div>"
      ],
      "text/plain": [
       "          vendor_id  passenger_count  pickup_longitude  pickup_latitude  \\\n",
       "count  1.458644e+06     1.458644e+06      1.458644e+06     1.458644e+06   \n",
       "mean   1.534950e+00     1.664530e+00     -7.397349e+01     4.075092e+01   \n",
       "std    4.987772e-01     1.314242e+00      7.090186e-02     3.288119e-02   \n",
       "min    1.000000e+00     0.000000e+00     -1.219333e+02     3.435970e+01   \n",
       "25%    1.000000e+00     1.000000e+00     -7.399187e+01     4.073735e+01   \n",
       "50%    2.000000e+00     1.000000e+00     -7.398174e+01     4.075410e+01   \n",
       "75%    2.000000e+00     2.000000e+00     -7.396733e+01     4.076836e+01   \n",
       "max    2.000000e+00     9.000000e+00     -6.133553e+01     5.188108e+01   \n",
       "\n",
       "       dropoff_longitude  dropoff_latitude  trip_duration  \n",
       "count       1.458644e+06      1.458644e+06   1.458644e+06  \n",
       "mean       -7.397342e+01      4.075180e+01   9.594923e+02  \n",
       "std         7.064327e-02      3.589056e-02   5.237432e+03  \n",
       "min        -1.219333e+02      3.218114e+01   1.000000e+00  \n",
       "25%        -7.399133e+01      4.073588e+01   3.970000e+02  \n",
       "50%        -7.397975e+01      4.075452e+01   6.620000e+02  \n",
       "75%        -7.396301e+01      4.076981e+01   1.075000e+03  \n",
       "max        -6.133553e+01      4.392103e+01   3.526282e+06  "
      ]
     },
     "execution_count": 2,
     "metadata": {},
     "output_type": "execute_result"
    }
   ],
   "source": [
    "df = pd.read_csv(os.path.join(\"nyc_datasets\", \"train.csv\"))\n",
    "print(df.info(memory_usage='deep'))\n",
    "df.describe()"
   ]
  },
  {
   "cell_type": "markdown",
   "metadata": {},
   "source": []
  },
  {
   "cell_type": "code",
   "execution_count": 3,
   "metadata": {},
   "outputs": [
    {
     "name": "stdout",
     "output_type": "stream",
     "text": [
      "if type changed: object --> string\n",
      "then memory changed: 96270632 --> 96270632 (save 0.00%)\n",
      "\n",
      "if type changed: int64 --> category\n",
      "then memory changed: 11669280 --> 1458896 (save 87.50%)\n",
      "\n",
      "if type changed: object --> datetime64\n",
      "then memory changed: 110857072 --> 11669280 (save 89.47%)\n",
      "\n",
      "if type changed: object --> datetime64\n",
      "then memory changed: 110857072 --> 11669280 (save 89.47%)\n",
      "\n",
      "if type changed: int64 --> int8\n",
      "then memory changed: 11669280 --> 1458772 (save 87.50%)\n",
      "\n",
      "if type changed: float64 --> float16\n",
      "then memory changed: 11669280 --> 2917416 (save 75.00%)\n",
      "\n",
      "if type changed: float64 --> float16\n",
      "then memory changed: 11669280 --> 2917416 (save 75.00%)\n",
      "\n",
      "if type changed: float64 --> float16\n",
      "then memory changed: 11669280 --> 2917416 (save 75.00%)\n",
      "\n",
      "if type changed: float64 --> float16\n",
      "then memory changed: 11669280 --> 2917416 (save 75.00%)\n",
      "\n",
      "if type changed: object --> category\n",
      "then memory changed: 84601480 --> 1458996 (save 98.28%)\n",
      "\n",
      "if type changed: int64 --> int32\n",
      "then memory changed: 11669280 --> 5834704 (save 50.00%)\n",
      "\n"
     ]
    }
   ],
   "source": [
    "def type_changer(col:str, type:str):\n",
    "    previous_memory = df[col].memory_usage(deep=True)\n",
    "    print(f'if type changed: {df[col].dtypes} --> {type}')\n",
    "    past_memory = df[col].astype(type).memory_usage(deep=True)\n",
    "    print(f'then memory changed: {previous_memory} --> {past_memory} (save {100-(100*past_memory/previous_memory):.2f}%)\\n')\n",
    "\n",
    "type_changer(col='id', type='string')\n",
    "type_changer(col='vendor_id', type='category')\n",
    "type_changer(col='pickup_datetime', type='datetime64')\n",
    "type_changer(col='dropoff_datetime', type='datetime64')\n",
    "type_changer(col='passenger_count', type='int8')\n",
    "type_changer(col='pickup_longitude', type='float16')\n",
    "type_changer(col='pickup_latitude', type='float16')\n",
    "type_changer(col='dropoff_longitude', type='float16')\n",
    "type_changer(col='dropoff_latitude', type='float16')\n",
    "type_changer(col='store_and_fwd_flag', type='category')\n",
    "type_changer(col='trip_duration', type='int32')\n"
   ]
  },
  {
   "cell_type": "markdown",
   "metadata": {},
   "source": []
  },
  {
   "cell_type": "code",
   "execution_count": 4,
   "metadata": {},
   "outputs": [
    {
     "name": "stdout",
     "output_type": "stream",
     "text": [
      "<class 'pandas.core.frame.DataFrame'>\n",
      "RangeIndex: 1458644 entries, 0 to 1458643\n",
      "Data columns (total 11 columns):\n",
      " #   Column              Non-Null Count    Dtype         \n",
      "---  ------              --------------    -----         \n",
      " 0   id                  1458644 non-null  string        \n",
      " 1   vendor_id           1458644 non-null  category      \n",
      " 2   pickup_datetime     1458644 non-null  datetime64[ns]\n",
      " 3   dropoff_datetime    1458644 non-null  datetime64[ns]\n",
      " 4   passenger_count     1458644 non-null  int8          \n",
      " 5   pickup_longitude    1458644 non-null  float16       \n",
      " 6   pickup_latitude     1458644 non-null  float16       \n",
      " 7   dropoff_longitude   1458644 non-null  float16       \n",
      " 8   dropoff_latitude    1458644 non-null  float16       \n",
      " 9   store_and_fwd_flag  1458644 non-null  category      \n",
      " 10  trip_duration       1458644 non-null  int32         \n",
      "dtypes: category(2), datetime64[ns](2), float16(4), int32(1), int8(1), string(1)\n",
      "memory usage: 134.9 MB\n"
     ]
    }
   ],
   "source": [
    "df['id'] = df['id'].astype('string')\n",
    "df['vendor_id'] = df['vendor_id'].astype('category')\n",
    "df['pickup_datetime'] = df['pickup_datetime'].astype('datetime64')\n",
    "df['dropoff_datetime'] = df['dropoff_datetime'].astype('datetime64')\n",
    "df['passenger_count'] = df['passenger_count'].astype('int8')\n",
    "df['pickup_longitude'] = df['pickup_longitude'].astype('float16')\n",
    "df['pickup_latitude'] = df['pickup_latitude'].astype('float16')\n",
    "df['dropoff_longitude'] = df['dropoff_longitude'].astype('float16')\n",
    "df['dropoff_latitude'] = df['dropoff_latitude'].astype('float16')\n",
    "df['store_and_fwd_flag'] = df['store_and_fwd_flag'].astype('category')\n",
    "df['trip_duration'] = df['trip_duration'].astype('int32')\n",
    "df.info(memory_usage='deep')"
   ]
  },
  {
   "cell_type": "markdown",
   "metadata": {},
   "source": []
  },
  {
   "cell_type": "code",
   "execution_count": 5,
   "metadata": {},
   "outputs": [
    {
     "name": "stdout",
     "output_type": "stream",
     "text": [
      "<class 'pandas.core.frame.DataFrame'>\n",
      "RangeIndex: 1458644 entries, 0 to 1458643\n",
      "Data columns (total 8 columns):\n",
      " #   Column             Non-Null Count    Dtype  \n",
      "---  ------             --------------    -----  \n",
      " 0   id                 1458644 non-null  object \n",
      " 1   pickup_datetime    1458644 non-null  object \n",
      " 2   dropoff_datetime   1458644 non-null  object \n",
      " 3   pickup_longitude   1458644 non-null  float64\n",
      " 4   pickup_latitude    1458644 non-null  float64\n",
      " 5   dropoff_longitude  1458644 non-null  float64\n",
      " 6   dropoff_latitude   1458644 non-null  float64\n",
      " 7   trip_duration      1458644 non-null  int64  \n",
      "dtypes: float64(4), int64(1), object(3)\n",
      "memory usage: 358.9 MB\n",
      "if used column only\n",
      "<class 'pandas.core.frame.DataFrame'>\n",
      "RangeIndex: 1458644 entries, 0 to 1458643\n",
      "Data columns (total 8 columns):\n",
      " #   Column             Non-Null Count    Dtype  \n",
      "---  ------             --------------    -----  \n",
      " 0   id                 1458644 non-null  string \n",
      " 1   pickup_datetime    1458644 non-null  object \n",
      " 2   dropoff_datetime   1458644 non-null  object \n",
      " 3   pickup_longitude   1458644 non-null  float16\n",
      " 4   pickup_latitude    1458644 non-null  float16\n",
      " 5   dropoff_longitude  1458644 non-null  float16\n",
      " 6   dropoff_latitude   1458644 non-null  float16\n",
      " 7   trip_duration      1458644 non-null  int32  \n",
      "dtypes: float16(4), int32(1), object(2), string(1)\n",
      "memory usage: 319.9 MB\n"
     ]
    }
   ],
   "source": [
    "use_cols = ['id', 'pickup_datetime', 'dropoff_datetime', 'pickup_longitude', 'pickup_latitude', 'dropoff_longitude', 'dropoff_latitude', 'trip_duration']\n",
    "data_types = {\n",
    "    'id' : 'string', \n",
    "    # 'pickup_datetime': 'datetime64',          # not supported\n",
    "    # 'dropoff_datetime': 'datetime64',         # not supported \n",
    "    'pickup_longitude': 'float16', \n",
    "    'pickup_latitude': 'float16', \n",
    "    'dropoff_longitude': 'float16', \n",
    "    'dropoff_latitude': 'float16', \n",
    "    'trip_duration' : 'int32'\n",
    "}\n",
    "df_full = pd.read_csv(os.path.join(\"nyc_datasets\", \"train.csv\"))[use_cols]\n",
    "df_partial = pd.read_csv(os.path.join(\"nyc_datasets\", \"train.csv\"), usecols=use_cols, dtype=data_types)\n",
    "previous_memory = df_full.info(memory_usage='deep')\n",
    "print(f'if used column only')\n",
    "past_memory = df_partial.info(memory_usage='deep')"
   ]
  },
  {
   "cell_type": "code",
   "execution_count": 16,
   "metadata": {},
   "outputs": [],
   "source": [
    "df_chunk = pd.read_csv(os.path.join(\"nyc_datasets\", \"train.csv\"), usecols=use_cols, dtype=data_types, chunksize=1000)\n",
    "# df_chunk.get_chunk()\n",
    "# df_chunk.read()"
   ]
  },
  {
   "cell_type": "code",
   "execution_count": 12,
   "metadata": {},
   "outputs": [
    {
     "name": "stdout",
     "output_type": "stream",
     "text": [
      "<class 'dask.dataframe.core.DataFrame'>\n",
      "Columns: 11 entries, id to trip_duration\n",
      "dtypes: object(4), float64(4), int64(3)\n",
      "memory usage: 122.4 MB\n"
     ]
    }
   ],
   "source": [
    "import dask.dataframe as dd\n",
    "ddf = dd.read_csv(os.path.join(\"nyc_datasets\", \"train.csv\"))\n",
    "ddf.info(memory_usage=True)"
   ]
  },
  {
   "cell_type": "code",
   "execution_count": 15,
   "metadata": {},
   "outputs": [
    {
     "name": "stdout",
     "output_type": "stream",
     "text": [
      "<class 'pandas.core.frame.DataFrame'>\n",
      "RangeIndex: 1458644 entries, 0 to 1458643\n",
      "Data columns (total 11 columns):\n",
      " #   Column              Non-Null Count    Dtype  \n",
      "---  ------              --------------    -----  \n",
      " 0   id                  1458644 non-null  object \n",
      " 1   vendor_id           1458644 non-null  int64  \n",
      " 2   pickup_datetime     1458644 non-null  object \n",
      " 3   dropoff_datetime    1458644 non-null  object \n",
      " 4   passenger_count     1458644 non-null  int64  \n",
      " 5   pickup_longitude    1458644 non-null  float64\n",
      " 6   pickup_latitude     1458644 non-null  float64\n",
      " 7   dropoff_longitude   1458644 non-null  float64\n",
      " 8   dropoff_latitude    1458644 non-null  float64\n",
      " 9   store_and_fwd_flag  1458644 non-null  object \n",
      " 10  trip_duration       1458644 non-null  int64  \n",
      "dtypes: float64(4), int64(3), object(4)\n",
      "memory usage: 461.8 MB\n",
      "None\n",
      "<class 'pandas.core.frame.DataFrame'>\n",
      "RangeIndex: 1458644 entries, 0 to 1458643\n",
      "Data columns (total 11 columns):\n",
      " #   Column              Non-Null Count    Dtype         \n",
      "---  ------              --------------    -----         \n",
      " 0   id                  1458644 non-null  object        \n",
      " 1   vendor_id           1458644 non-null  int8          \n",
      " 2   pickup_datetime     1458644 non-null  datetime64[ns]\n",
      " 3   dropoff_datetime    1458644 non-null  datetime64[ns]\n",
      " 4   passenger_count     1458644 non-null  int8          \n",
      " 5   pickup_longitude    1458644 non-null  float32       \n",
      " 6   pickup_latitude     1458644 non-null  float32       \n",
      " 7   dropoff_longitude   1458644 non-null  float32       \n",
      " 8   dropoff_latitude    1458644 non-null  float32       \n",
      " 9   store_and_fwd_flag  1458644 non-null  category      \n",
      " 10  trip_duration       1458644 non-null  int32         \n",
      "dtypes: category(1), datetime64[ns](2), float32(4), int32(1), int8(2), object(1)\n",
      "memory usage: 146.1 MB\n",
      "None\n"
     ]
    }
   ],
   "source": [
    "import utils\n",
    "import pandas as pd\n",
    "\n",
    "df = pd.read_csv(os.path.join(\"nyc_datasets\", \"train.csv\"))\n",
    "print(df.info(memory_usage='deep'))\n",
    "df = utils.optimize(df,datetime_features=['pickup_datetime', 'dropoff_datetime'])\n",
    "print(df.info(memory_usage='deep'))"
   ]
  },
  {
   "cell_type": "code",
   "execution_count": 70,
   "metadata": {},
   "outputs": [
    {
     "name": "stdout",
     "output_type": "stream",
     "text": [
      "pyobject(<class 'list'>) mem use: 8000056\n",
      "numpy(<class 'numpy.ndarray'>) mem use: 8000096\n",
      "pyobject(<class 'int'>) mem use: 28\n",
      "numpy(<class 'numpy.int64'>) mem use: 8\n"
     ]
    }
   ],
   "source": [
    "import numpy as np\n",
    "import sys\n",
    "import typing\n",
    "\n",
    "\n",
    "arr = []\n",
    "np_arr = np.zeros((1000000,), dtype=np.int64)\n",
    "for i in range(1000000):\n",
    "    arr.append(int(i))\n",
    "    np_arr[i] += i\n",
    "\n",
    "print(f'pyobject({type(arr)}) mem use: {sys.getsizeof(arr)}')\n",
    "print(f'numpy({type(np_arr)}) mem use: {sys.getsizeof(np_arr)}')\n",
    "\n",
    "print(f'pyobject({type(123)}) mem use: {sys.getsizeof(123)}')\n",
    "print(f'numpy({type(np.int64(123))}) mem use: {np.int64(123).nbytes}')\n",
    "\n"
   ]
  }
 ],
 "metadata": {
  "interpreter": {
   "hash": "1382348a08424bbfc4a28c5d93e4e27d47ad771c96167fecf73f66b650735cdc"
  },
  "kernelspec": {
   "display_name": "Python 3.8.2 ('py3venv')",
   "language": "python",
   "name": "python3"
  },
  "language_info": {
   "codemirror_mode": {
    "name": "ipython",
    "version": 3
   },
   "file_extension": ".py",
   "mimetype": "text/x-python",
   "name": "python",
   "nbconvert_exporter": "python",
   "pygments_lexer": "ipython3",
   "version": "3.8.2"
  },
  "orig_nbformat": 4
 },
 "nbformat": 4,
 "nbformat_minor": 2
}
